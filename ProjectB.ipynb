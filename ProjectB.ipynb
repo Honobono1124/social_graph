{
 "cells": [
  {
   "cell_type": "markdown",
   "metadata": {},
   "source": [
    "# Social Graphs 2017 Project Assignment B"
   ]
  },
  {
   "cell_type": "markdown",
   "metadata": {},
   "source": [
    "## What Would be a Next Popular Manga in US? Using Sentiment Analysis and Similarity Analysis"
   ]
  },
  {
   "cell_type": "markdown",
   "metadata": {},
   "source": [
    "## Part 1: Motivation\n",
    "\n",
    "Japanese Manga is well-known as an one of Japanese Culture and loved by young people all over the world. In the US, where is a main market of manga outside of Japan, more and more manga have been published and popular: [“Death Note”](https://en.wikipedia.org/wiki/Death_Note), [“One-Punch Man”](http://onepunchman.wikia.com/wiki/One-Punch_Man_Wiki), and so on… and it is almost impossible to predict which Japanese manga would be next popular manga in US. In this article, we tried to predict a next popular manga by using two types of measurements : Similarity Analysis and Sentiment Analysis.\n",
    "\n",
    "#### Dataset\n",
    "We chose Wikipedia articles of japanese mangas as dataset for this project because wikiarticles have a variety of information from its plot to its marchandise and it is written on unbiased way which allows us to analyze the data without considering writers bias or unbalanceness between mangas.\n",
    "\n",
    "Thus the dataset we chose is as follows:\n",
    "\n",
    "* **English Wiki articles of best seller manga in US from 2009 to 2016**: We extracted New York Times Best Seller mangas from [a wikipedia page](https://en.wikipedia.org/wiki/List_of_The_New_York_Times_Manga_Best_Sellers) and collected wiki articles of them by using [MediaWiki API](https://www.mediawiki.org/wiki/API:Main_page).   We succeeded to collect 185 articles and the data size is about 5 MB.\n",
    "\n",
    "\n",
    "* **Japanese Wiki articles of new-published manga in Japan from 2015 to 2017**: Extract new-published manga titles from Japanese Web service called [“hon no hikidashi (book’s drawer)”](http://hon-hikidashi.jp/enjoy/15948/) where posts a ranking of top 20 new-published manga in every 6-month since 2015. We succeeded to collect 100 titles from the web service and extract 36 wiki articles of them and the datasize if about 2 MB.\n",
    "\n",
    "#### Our goal for this project\n",
    "This project aims to understand what kind of manga became popular in US and get a hint to predict what types of manga would be popular in the future."
   ]
  },
  {
   "cell_type": "markdown",
   "metadata": {},
   "source": [
    "## Part2: Basic stats. Let's understand the dataset better\n",
    "\n",
    "Here is a process how we processed dataset and extacted wiki articles of Best seller mangas (we call popular manga in this project) and New-published mangas:\n",
    "\n",
    "### 1.**Use MediaWiki API to collect names of popular mangas from *\"List of The New York Times Manga Best Sellers\"* **\n",
    "\n",
    "First we imported some libraries needed to data processing."
   ]
  },
  {
   "cell_type": "code",
   "execution_count": 5,
   "metadata": {
    "collapsed": true
   },
   "outputs": [],
   "source": [
    "#Import some libraries\n",
    "import urllib2\n",
    "import json\n",
    "import re\n",
    "import pickle"
   ]
  },
  {
   "cell_type": "markdown",
   "metadata": {},
   "source": [
    "Then in order to extract content of [List of The New York Times Manga Best Sellers](https://en.wikipedia.org/wiki/List_of_The_New_York_Times_Manga_Best_Sellers), set a query for each year's Mnaga Best Seller wiki page.   \n",
    "We stored the contents as a dictionary type."
   ]
  },
  {
   "cell_type": "code",
   "execution_count": 127,
   "metadata": {
    "collapsed": true
   },
   "outputs": [],
   "source": [
    "#Set a list of years form 2009 to 2016\n",
    "year = [str(i) for i in range(2009,2017)]\n",
    "\n",
    "# Set some basic parameters for a query\n",
    "baseurl = \"https://en.wikipedia.org/w/api.php?\"\n",
    "action = \"action=query\"\n",
    "content = \"prop=revisions&rvprop=content\"\n",
    "dataformat = \"format=json\"\n",
    "\n",
    "# Generate a empty dictionary\n",
    "wiki_json =dict()\n",
    "\n",
    "# For each year, set a title parameter and stored it to the dictionary as a json datatype.\n",
    "for y in year:\n",
    "    title=\"titles=The_New_York_Times_Manga_Best_Sellers_of_%s\"%y\n",
    "    query=\"%s&%s&%s&%s&%s\" %(baseurl,action,title,content,dataformat)\n",
    "    wikimangas = urllib2.urlopen(query).read()\n",
    "    wikijsons[key]=json.loads(wikimangas)"
   ]
  },
  {
   "cell_type": "markdown",
   "metadata": {
    "collapsed": true
   },
   "source": [
    "### ** 2.Extract names of popular mangas from the wiki articles**  \n",
    "After storing the contents, we extracted titles of the mangas by using re.findall function.  \n",
    "In this process, because of a difference of writing format among 2009 to 2016 wiki articles, we used different patterns to extract the titles."
   ]
  },
  {
   "cell_type": "code",
   "execution_count": 122,
   "metadata": {
    "collapsed": true
   },
   "outputs": [],
   "source": [
    "# Set a empty list\n",
    "names_list =[]\n",
    "# For each wiki article from 2009 to 2016, use re.findall function to ectract manga titles.\n",
    "for key,item in wikijsons.items():\n",
    "    # Access to a content of a wiki article.\n",
    "    resource = item[\"query\"][\"pages\"][item[\"query\"][\"pages\"].keys()[0]][\"revisions\"][0].values()[0]\n",
    "    \n",
    "    # Extract manga titiles from 2009-2011 best sellers\n",
    "    if int(key)<2012:\n",
    "        pattern = r\"\\| \\''\\w+\\''\"\n",
    "        result = [i[4:-2] for i in re.findall(pattern,resource)]\n",
    "        names_list.extend(result)\n",
    "     \n",
    "    # Extract manga titiles from 2012 best sellers\n",
    "    elif key == \"2012\":\n",
    "        pattern= r\"''\\[\\[.*?\\]\\]''\"\n",
    "        result = [i[4:-4] for i in re.findall(pattern,resource)]\n",
    "        names_list.extend(result)\n",
    "    \n",
    "    # Extract manga titiles from 2013-2016 best sellers\n",
    "    else:\n",
    "        pattern = r\"\\|''\\[\\[.*?\\]\\]\"\n",
    "        result = [i[5:-2] for i in re.findall(pattern,resource)]\n",
    "        names_list.extend(result)\n",
    "\n",
    "# Make a set of manga titles\n",
    "names_set = set(names_list)"
   ]
  },
  {
   "cell_type": "code",
   "execution_count": 6,
   "metadata": {
    "collapsed": true
   },
   "outputs": [],
   "source": [
    "# with open(\"pop_namelist.pickle\",\"wb\") as f:\n",
    "#     pickle.dump(names_list,f)"
   ]
  },
  {
   "cell_type": "markdown",
   "metadata": {},
   "source": [
    "### **3. Collect wiki articles of popular mangas**\n",
    "Here we edited names of the mangas to use for extracting wiki articles of the mangas by using MediaWiki API."
   ]
  },
  {
   "cell_type": "code",
   "execution_count": 124,
   "metadata": {
    "collapsed": true
   },
   "outputs": [],
   "source": [
    "# Set a empty list \n",
    "all_names = []\n",
    "for i in names_set:\n",
    "    # Replace space\" \" to underline \"_\"\n",
    "    i = i.replace(r\" \",r\"_\")\n",
    "    \n",
    "    # if the name has separater \"|\" , use a first part of the name, and append to the list.\n",
    "    if \"|\" in i:\n",
    "        all_names.append(i[:i.index(\"|\")])\n",
    "        \n",
    "    # else, just append the name to the list\n",
    "    else: all_names.append(i)"
   ]
  },
  {
   "cell_type": "code",
   "execution_count": 197,
   "metadata": {},
   "outputs": [
    {
     "name": "stdout",
     "output_type": "stream",
     "text": [
      "Omamori_Himari\n",
      "The_Ancient_Magus'_Bride\n",
      "Arisa_(manga)\n",
      "Sword_Art_Online\n",
      "Negima!_Magister_Negi_Magi\n",
      "House_of_Five_Leaves\n",
      "The_Legend_of_Zelda:_A_Link_to_the_Past\n",
      "The_Earl_and_the_Fairy\n",
      "Monster_Musume\n",
      "Yu-Gi-Oh!_Zexal\n",
      "Dengeki_Daisy\n",
      "Neon_Genesis_Evangelion\n",
      "Attack_on_Titan:_Before_the_Fall\n",
      "The_Flowers_of_Evil_(manga)\n",
      "Kannagi\n",
      "Library_Wars\n",
      "A_Certain_Scientific_Railgun\n",
      "Pokémon_Adventures\n",
      "Excel_Saga\n",
      "Durarara!!\n",
      "A_Bride's_Story\n",
      "Oresama_Teacher\n",
      "Battle_Angel_Alita:_Last_Order\n",
      "Higurashi_When_They_Cry\n",
      "Kamisama_Kiss\n",
      "Sword_Art_Online\n",
      "One-Punch_Man\n",
      "Yu-Gi-Oh!_GX\n",
      "Miles_Edgeworth:_Ace_Attorney\n",
      "Nura:_Rise_of_the_Yokai_Clan\n",
      "Twin_Spica\n",
      "Case_Closed\n",
      "The_Melancholy_of_Suzumiya_Haruhi-chan\n",
      "Big_Hero_6_(film)\n",
      "Pokémon_Adventures\n",
      "Tenjho_Tenge\n",
      "X_(manga)\n",
      "Air_Gear\n",
      "The_Melancholy_of_Haruhi_Suzumiya_(manga)\n",
      "Missions_of_Love\n",
      "Claymore\n",
      "Magic_Knight_Rayearth\n",
      "WataMote\n",
      "The_Story_of_Saiunkoku\n",
      "Naruto\n",
      "Berserk\n",
      "Black_Butler\n",
      "Monster_Hunter_Orage\n",
      "Soul_Eater_(manga)\n",
      "Vampire_Knight\n",
      "Blue_Exorcist\n",
      "Blood_Lad\n",
      "Puella_Magi_Madoka_Magica_(manga)\n",
      "Orange_(manga)\n",
      "Sailor_Moon\n",
      "Bleach\n",
      "The_Tyrant_Falls_in_Love\n",
      "Ultimo\n",
      "Fairy_Tail\n",
      "Ghost_in_the_Shell_(manga)\n",
      "xxxHolic\n",
      "Bunny_Drop\n",
      "Sayonara,_Zetsubou-Sensei\n",
      "The_World's_Greatest_First_Love\n",
      "Tegami_Bachi:_Letter_Bee\n",
      "Kitchen_Princess\n",
      "Spice_and_Wolf\n",
      "Ouran_High_School_Host_Club\n",
      "Psyren\n",
      "Alice_in_the_Country_of_Hearts\n",
      "Rosario+Vampire\n",
      "InuYasha\n",
      "Haganai\n",
      "Bakuman\n",
      "Hatsune_Miku:_Unofficial_Hatsune_Mix\n",
      "Maximum_Ride\n",
      "Nightschool\n",
      "Dance_in_the_Vampire_Bund\n",
      "Neon_Genesis_Evangelion:_Shinji_Ikari_Raising_Project\n",
      "Gunslinger_Girl\n",
      "Message_to_Adolf\n",
      "Sailor_Moon\n",
      "Amazing_Agent_Luna\n",
      "Toradora!\n",
      "Assassination_Classroom\n",
      "Crimson_Spell\n",
      "Cage_of_Eden\n",
      "Ai_Ore!\n",
      "Kingdom_Hearts_II\n",
      "Tokyo_Ghoul\n",
      "The_Betrayal_Knows_My_Name\n",
      "Bamboo_Blade\n",
      "One_Piece\n",
      "Noragami\n",
      "Highschool_of_the_Dead\n",
      "Monster_Musume\n",
      "Jormungand_(manga)\n",
      "Neon_Genesis_Evangelion_(manga)\n",
      "GTO:_The_Early_Years\n",
      "Arata:_The_Legend\n",
      "Mardock_Scramble\n",
      "Bloody_Monday_(manga)\n",
      "Megatokyo\n",
      "D.Gray-man\n",
      "Witch_Hunter_(manhwa)\n",
      "Fluffy,_Fluffy_Cinnamoroll\n",
      "Genshiken\n",
      "Soul_Eater_Not!\n",
      "Soulless_(comic)\n",
      "March_Story\n",
      "20th_Century_Boys\n",
      "Biomega\n",
      "Akame_ga_Kill!\n",
      "Skip_Beat!\n",
      "Chi's_Sweet_Home\n",
      "Pandora_Hearts\n",
      "Sakura_Hime:_The_Legend_of_Princess_Sakura\n",
      "No_Game,_No_Life\n",
      "Honey_Darling\n",
      "Dawn_of_the_Arcana\n",
      "Loveless_(manga)\n",
      "Dragonar_Academy\n",
      "Yu-Gi-Oh!_5D's\n",
      "The_Limit_(manga)\n",
      "Hellsing\n",
      "Black_Bird_(manga)\n",
      "Phoenix_Wright:_Ace_Attorney\n",
      "My_Hero_Academia\n",
      "Rosario_+_Vampire\n",
      "Bleach_(manga)\n",
      "Otomen\n",
      "Negima_Magister_Negi_Magi\n",
      "Love_Hina\n",
      "Finder_(manga)\n",
      "Dorohedoro\n",
      "The_Wallflower_(manga)\n",
      "Ghost_in_the_Shell:_Stand_Alone_Complex\n",
      "Jack_Frost_(manhwa)\n",
      "Fullmetal_Alchemist\n",
      "Mobile_Suit_Gundam:_The_Origin\n",
      "Finder_Series\n",
      "XXXholic\n",
      "Is_This_a_Zombie?\n",
      "Young_Miss_Holmes\n",
      "Pokémon:_Black_and_White_(manga)\n",
      "The_Drops_of_God\n",
      "Attack_on_Titan\n",
      "Yotsuba&!\n",
      "Skip_Beat\n",
      "Black_God_(manga)\n",
      "Akira\n",
      "Ninja_Girls\n",
      "Tokyo_Mew_Mew\n",
      "Phantom_Blood\n",
      "Attack_on_Titan:_No_Regrets\n"
     ]
    }
   ],
   "source": [
    "# Check the names\n",
    "for i in all_names:\n",
    "    print i"
   ]
  },
  {
   "cell_type": "code",
   "execution_count": 200,
   "metadata": {
    "collapsed": true
   },
   "outputs": [],
   "source": [
    "# Modify some tricky error for extracting a wiki article \n",
    "for num,name in enumerate(all_names):\n",
    "    if name == u\"Library_Wars:_Love_&_War\":\n",
    "        all_names[num] = u\"Library_Wars\""
   ]
  },
  {
   "cell_type": "markdown",
   "metadata": {},
   "source": [
    "After modifying the names, we used MediaWiki API again and stored the articles to <font color='red'>names_dict</font>."
   ]
  },
  {
   "cell_type": "code",
   "execution_count": 201,
   "metadata": {
    "scrolled": true
   },
   "outputs": [],
   "source": [
    "# Set some basic parameters for a query\n",
    "baseurl = \"https://en.wikipedia.org/w/api.php?\"\n",
    "action = \"action=query\"\n",
    "content = \"prop=revisions&links&redirects&rvprop=content\"\n",
    "dataformat = \"format=json\"\n",
    "\n",
    "# Generate a empty dictionary\n",
    "names_dict = dict()\n",
    "for name in all_names:\n",
    "    \n",
    "    # set a try-exept statement because some titles do not have wiki pages.\n",
    "    try:\n",
    "        title = \"titles=%s\"%name.encode(\"utf-8\")\n",
    "        query = \"%s&%s&%s&%s&%s\"%(baseurl,action,title,content,dataformat)\n",
    "        name_json = json.loads(urllib2.urlopen(query).read())\n",
    "        names_dict[name] = name_json[\"query\"][\"pages\"][name_json[\"query\"][\"pages\"].keys()[0]][\"revisions\"][0][\"*\"]\n",
    "    except:\n",
    "        pass"
   ]
  },
  {
   "cell_type": "markdown",
   "metadata": {},
   "source": [
    "Here we succeeded to extract 149 wiki articles."
   ]
  },
  {
   "cell_type": "code",
   "execution_count": 136,
   "metadata": {},
   "outputs": [
    {
     "data": {
      "text/plain": [
       "149"
      ]
     },
     "execution_count": 136,
     "metadata": {},
     "output_type": "execute_result"
    }
   ],
   "source": [
    "len(names_dict)"
   ]
  },
  {
   "cell_type": "markdown",
   "metadata": {},
   "source": [
    "### Short discussion: wiki articles of popular mangas\n",
    "A number of words of dataset is important factor to succeed to analyze natural language. If the number is too small, the analysis would be failure. Here we plotted a distribution of a number of characters for each popular manga's wiki article."
   ]
  },
  {
   "cell_type": "code",
   "execution_count": 144,
   "metadata": {},
   "outputs": [
    {
     "data": {
      "image/png": "[encoded data removed]",
      "text/plain": [
       "<matplotlib.figure.Figure at 0x108d97350>"
      ]
     },
     "metadata": {},
     "output_type": "display_data"
    }
   ],
   "source": [
    "y,x = np.histogram([len(i) for i in names_dict.values()],bins=\"auto\")\n",
    "plt.figure(figsize=(14,7))\n",
    "plt.plot(x[:-1],y),plt.ylabel(\"count\"),plt.xlabel(\"number of characters\")\n",
    "plt.show()"
   ]
  },
  {
   "cell_type": "markdown",
   "metadata": {},
   "source": [
    "As seen above most articles have enough words, however some articles have less than 1000 characters which means they have less than about 300 words. The number of the articles having small number of words are not so matters ( number is roughly 15), but still we need to consider this data would effect to analysis and need to remove them in case."
   ]
  },
  {
   "cell_type": "markdown",
   "metadata": {},
   "source": [
    "### 4.**Use Japnese Manga Web Service to collect names of new published mangas**\n",
    "Extract new-published manga titles from Japanese Web service called [“hon no hikidashi (book’s drawer)”](http://hon-hikidashi.jp/enjoy/15948/) where posts a ranking of top 20 new-published manga in every 6-month since 2015.\n",
    "We collected the names by copy&paste (it is ashameful..) and the names are as follows"
   ]
  },
  {
   "cell_type": "code",
   "execution_count": 145,
   "metadata": {
    "collapsed": true
   },
   "outputs": [],
   "source": [
    "Names = [\"ものの歩\",\"天野めぐみはスキだらけ！\",\"天賀井さんは案外ふつう\",\"美食探偵 明智五郎\",\"フードファイタータベル\",\"贄姫と獣の王\",\"素敵な彼氏\",\\\n",
    "        \"ゆらぎ荘の幽奈さん\",\"世界は中島に恋をする！！\",\"キミとだけは恋に堕ちない\",\"左門くんはサモナー\",\"ヴァニタスの手記\",\"スモーキン’パレヱド\",\\\n",
    "        \"恋と呼ぶには気持ち悪い\",\"ショートケーキケーキ\",\"惑わない星\",\"僕と君の大切な話\",\"炎炎ノ消防隊\",\"プラチナエンド\",\"テリトリーMの住人\",\\\n",
    "        \"百花万華鏡\",\"青のフラッグ\",\"ぼくたちは勉強ができない\",\"渋谷金魚\",\"ジンメン\",\"怪物事変\",\"ジャンク・ランク・ファミリー\",\"斎王子兄弟に困らされるのも悪くない\",\\\n",
    "        \"間違った子を魔法少女にしてしまった\",\"ヤンキーショタとオタクおねえさん\",\"ばいばいリバティー\",\"チョコレート・ヴァンパイア\",\"魔王の秘書\",\"なんでここに先生が！？\",\\\n",
    "        \"人形の国\",\"幸色のワンルーム\",\"不滅のあなたへ\",\"CITY\",\"とんがり帽子のアトリエ\",\"憂国のモリアーティ\",\"君は、オレが好きだって言ったらどんな顔するだろう。\",\\\n",
    "        \"ブラックナイトパレード\",\"食糧人類－Starving Anonymous－\",\"漫画家とヤクザ\",\"柊様は自分を探している。\",\"てをつなごうよ\",\"八雲さんは餌づけがしたい。\",\\\n",
    "        \"海王ダンテ\",\"VECTOR BALL\",\"初恋の世界\",\"約束のネバーランド\",\"手品先輩\",\"GAME～スーツの隙間～\",\"龍帥の翼 史記・留侯世家異伝\",\"さよなら私のクラマー\",\\\n",
    "        \"古見さんは、コミュ症です。\",\"ファイアパンチ\",\"双亡亭壊すべし\",\"終末のハーレム\",\"薫りの継承\",\"君死ニタマフ事ナカレ\",\"SP×ベイビー\",\"なのは洋菓子店のいい仕事\",\\\n",
    "        \"同居人はひざ、時々、頭のうえ。\",\"青楼オペラ\",\"ハピネス_(押見修造の漫画)\",\"兄に愛されすぎて困ってます\",\"背すじをピン！と～鹿高競技ダンス部へようこそ～\",\"ももくり\",\\\n",
    "        \"プランダラ\",\"明日の３６００秒\",\"恋降るカラフル～ぜんぶキミとはじめて～\",\"カツカレーの日\",\"雪花の虎\",\"空母いぶき\",\"午前０時、キスしに来てよ\",\\\n",
    "        \"椿町ロンリープラネット\",\"はたらく細胞\",\"思い、思われ、ふり、ふられ\"]"
   ]
  },
  {
   "cell_type": "markdown",
   "metadata": {},
   "source": [
    "### 5.**Collect Japnese Wiki articles of new published mangas**\n",
    "Same as we did when collect wiki articles of popular mangas, we used MediaWiki API to extract wiki articles of new-published mangas.  \n",
    "And stored them to <font color='red'>new_manga_dict</font>."
   ]
  },
  {
   "cell_type": "code",
   "execution_count": 147,
   "metadata": {},
   "outputs": [],
   "source": [
    "# Set some basic parameters for a query to Japanese Wikipedia\n",
    "baseurl = \"https://jp.wikipedia.org/w/api.php?\"\n",
    "action = \"action=query\"\n",
    "content = \"prop=revisions&rvprop=content\"\n",
    "dataformat = \"format=json\"\n",
    "\n",
    "# Generate a empty dictionary\n",
    "new_manga_dict = dict()\n",
    "for name in Names:\n",
    "    try:\n",
    "        # set a try-exept statement because some titles do not have wiki pages.\n",
    "        name = name.replace(r\" \",r\"_\")\n",
    "        title = \"titles=%s\"%name\n",
    "        query = \"%s&%s&%s&%s&%s\"%(baseurl,action,title,content,dataformat)\n",
    "        name_json = json.loads(urllib2.urlopen(query).read())\n",
    "        new_manga_dict[name] = name_json[\"query\"][\"pages\"][name_json[\"query\"][\"pages\"].keys()[0]][\"revisions\"][0][\"*\"]\n",
    "    except:\n",
    "        pass"
   ]
  },
  {
   "cell_type": "markdown",
   "metadata": {},
   "source": [
    "Here we succeeded to extract 37 wiki articles out of 100 titles."
   ]
  },
  {
   "cell_type": "code",
   "execution_count": 148,
   "metadata": {},
   "outputs": [
    {
     "name": "stdout",
     "output_type": "stream",
     "text": [
      "37\n"
     ]
    }
   ],
   "source": [
    "print len(new_manga_dict)"
   ]
  },
  {
   "cell_type": "markdown",
   "metadata": {},
   "source": [
    "After this, we translated each Japanese wiki article to English to analyze and save it as a new_manga_en_dict."
   ]
  },
  {
   "cell_type": "code",
   "execution_count": 202,
   "metadata": {
    "collapsed": true
   },
   "outputs": [],
   "source": [
    "with open(\"./translated_dict.pickle\",\"rb\") as f:\n",
    "    new_manga_en_dict = pickle.load(f)"
   ]
  },
  {
   "cell_type": "markdown",
   "metadata": {},
   "source": [
    "---"
   ]
  },
  {
   "cell_type": "markdown",
   "metadata": {},
   "source": [
    "## Part3: Tools, theory and analysis\n",
    "\n",
    "### Similarity Analysis\n",
    "First theory we used for this project is **Similarity Analysis** which is well unkown as **Cosine Similarity**.\n",
    "- Cosine Similarity\n",
    ">The cosine similarity is a measure of the angle between two vectors, normalized by magnitude. You just divide the dot product by the magnitude of the two vectors.\n",
    ">By taking the algebraic and geometric definition of the dot product, we get the cosine similarity that is a normalized dot product of two vectors.  \n",
    "** If the angle is small (they share many tokens in common), the cosine is large.  \n",
    "If the angle is large (and they have few tokens in common), the cosine is small**. (*from [Gerardnico](https://gerardnico.com/wiki/data_mining/cosine_similarity)*)\n",
    "\n",
    "So we define a similarity of each new-published manga as a average distance from the new-published manga to popular mangas.\n",
    "And in order to apply cosine similarity to this dataset we used **TF-IDF vectorizer** function from sklearn library.\n",
    "- TF-IDF\n",
    ">tf–idf, short for term frequency–inverse document frequency, is a numerical statistic that is intended to reflect how important a word is to a document in a collection or corpus.  \n",
    "It is often used as a weighting factor in information retrieval and text mining.  \n",
    "The tf-idf value increases proportionally to the number of times a word appears in the document, but is offset by the frequency of the word in the corpus, which helps to control for the fact that some words are generally more common than others.\n",
    "\n",
    "The process of Similarity Analysis is as follows:\n",
    "1.  Cleaning the dataset. Remove stop words, numbers, and punctuation.\n",
    "2.  Generate TF-IDF vector for each popular and new-published manga.\n",
    "3.  Calculate average distance between each new-published manga and popular mangas."
   ]
  },
  {
   "cell_type": "markdown",
   "metadata": {},
   "source": [
    "### 1. Cleaning the dataset. Remove stop words, numbers, and punctuation.\n",
    "To create TF-IDF vector, we need to remove some stop words from contents.   \n",
    "So we downloaded stop_words.txt. Also we remove numbers and some panctuations."
   ]
  },
  {
   "cell_type": "code",
   "execution_count": 12,
   "metadata": {
    "collapsed": true
   },
   "outputs": [],
   "source": [
    "# Load stop words\n",
    "f = open(\"./../assignment2/stop_words.txt\",\"r\")\n",
    "stop_words = [i[:-1].replace(\"'\",\"\") for i in f.readlines()]\n",
    "f.close()"
   ]
  },
  {
   "cell_type": "code",
   "execution_count": 151,
   "metadata": {
    "collapsed": true
   },
   "outputs": [],
   "source": [
    "# Clean dataset of popular mangas\n",
    "# Set a empty dictionary\n",
    "words_pop_manga = dict()\n",
    "# Clean dataset of popular mangas\n",
    "for num,(key,value) in enumerate(names_dict.items()):\n",
    "    #replace space characters to single space\n",
    "    texts = re.sub(r\"\\s\",\" \",value)\n",
    "    #replace numbers and some punctuation to single space\n",
    "    texts = re.sub(r\"[|}{%&#0-9?'\\\"_,\\.;:\\[\\]\\(\\)-=><^\\\\*]\",\" \",texts)\n",
    "    # lower the text and split it and generate a list\n",
    "    texts = texts.lower().split()\n",
    "    # remove stopwords and single charachters like \"a\" or\"n\"\n",
    "    texts = [i for i in texts if i not in stop_words and  len(i)>1]\n",
    "    # Add it to the dictionary\n",
    "    words_pop_manga[key]=set(texts)"
   ]
  },
  {
   "cell_type": "code",
   "execution_count": 152,
   "metadata": {
    "collapsed": true
   },
   "outputs": [],
   "source": [
    "# Clean dataset of popular mangas\n",
    "# Set a empty dictionary\n",
    "words_new_manga = dict()\n",
    "# Clean dataset of new-published mangas\n",
    "for num,(key,value) in enumerate(new_manga_en_dict.items()):\n",
    "    #replace space characters to single space and decode it to utf-8\n",
    "    texts = re.sub(u\"\\s\",\" \",value).decode(\"utf-8\")\n",
    "    #replace other space charachter used in utf-8 to single space\n",
    "    texts = re.sub(u\"\\xa0\",u\" \",texts)\n",
    "    #replace numbers and some punctuation to single space\n",
    "    texts = re.sub(r\"[|}{%&#0-9?'\\\"_,\\.;:\\[\\]\\(\\)-=><^\\\\*]\",\" \",texts)\n",
    "    # lower the text\n",
    "    texts = texts.lower()\n",
    "    # split texts by space (from single space to multiple space)\n",
    "    texts = re.split(r\" +\",texts)\n",
    "    # remove stopwords and single charachters like \"a\" or\"n\"\n",
    "    texts = [i for i in texts if i not in stop_words and  len(i)>1]\n",
    "    words_new_manga[key]=set(texts)"
   ]
  },
  {
   "cell_type": "markdown",
   "metadata": {},
   "source": [
    "### 2. Generate TF-IDF vector for each popular and new-published manga.\n",
    "In order to compute TF-IDF vector, we used TfidfVectorizer from sklearn library."
   ]
  },
  {
   "cell_type": "code",
   "execution_count": 158,
   "metadata": {
    "collapsed": true
   },
   "outputs": [],
   "source": [
    "#prepare input texts\n",
    "input_texts = [\" \".join(i) for i in words_pop_manga.values()]+[\" \".join(i) for i  in words_new_manga.values()]"
   ]
  },
  {
   "cell_type": "code",
   "execution_count": 159,
   "metadata": {},
   "outputs": [],
   "source": [
    "# compute TF-IDF vectors\n",
    "from sklearn.feature_extraction.text import TfidfVectorizer \n",
    "vectorizer = TfidfVectorizer(use_idf=True ,analyzer='word')\n",
    "vecs = vectorizer.fit_transform(input_texts)"
   ]
  },
  {
   "cell_type": "code",
   "execution_count": 170,
   "metadata": {},
   "outputs": [],
   "source": [
    "#compute cosine similarity\n",
    "cos_values = dict()\n",
    "from sklearn.metrics.pairwise import cosine_similarity\n",
    "for key,new_manga in zip(words_new_manga.keys(),range(149,185)):\n",
    "    value =[cosine_similarity(vecs[new_manga], vecs[i])[0][0] for i in range(149)]\n",
    "    cos_values[key] = value"
   ]
  },
  {
   "cell_type": "code",
   "execution_count": 174,
   "metadata": {
    "scrolled": false
   },
   "outputs": [
    {
     "data": {
      "image/png": "[encoded data removed]",
      "text/plain": [
       "<matplotlib.figure.Figure at 0x108657250>"
      ]
     },
     "metadata": {},
     "output_type": "display_data"
    }
   ],
   "source": [
    "# plot a distribution of cosine similarity\n",
    "y,x = np.histogram([sum(i)/len(i) for i in cos_values.values()],bins=\"auto\")\n",
    "plt.figure(figsize=(14,7))\n",
    "plt.plot(x[:-1],y,\"o-\")\n",
    "plt.ylabel(\"count\"),plt.xlabel(\"similarity\")\n",
    "plt.show()"
   ]
  },
  {
   "cell_type": "markdown",
   "metadata": {},
   "source": [
    "As a result of similarity analysis with the method: TF-IDF Vector and Cosine Similarity, a distribution of similarities for each new-published manga looks like in figure3 (can be seen below). The minimum value is about 0.03 and maximum value is about 0.08, thus the highest value is twice as high as the lowest one. Top 3 mangas are Promised Never Land (score: 0.0785), Samon-kun wa Summoner (score: 0.0735), and World’s End Harem (score: 0.071). After the other analysis, which is Sentiment Analysis, we compared the result with the other one."
   ]
  },
  {
   "cell_type": "markdown",
   "metadata": {},
   "source": [
    "### Sentiment Analysis\n",
    ">Generally speaking, sentiment analysis aims to determine the attitude of a speaker, writer, or other subject with respect to some topic or the overall contextual polarity or emotional reaction to a document, interaction, or event. The attitude may be a judgment or evaluation (see appraisal theory), affective state (that is to say, the emotional state of the author or speaker), or the intended emotional communication (that is to say, the emotional effect intended by the author or interlocutor). referred from [wikipedia](https://en.wikipedia.org/wiki/Sentiment_analysis)\n",
    "\n",
    "Basically sentiment analysis is for estimate a judgement or evaluation of writers,  \n",
    "however it would be also for judging given texts are negative/positive or find some trends among them even they are wikipedia articles.   \n",
    "So we decided to use this method to analyze our topic deeper and more in detail.\n",
    "\n",
    "In this process we used [SentimentIntensityAnalyzer](http://www.nltk.org/api/nltk.sentiment.html) which allows us to use a lexicon to analyze sentiment of a given texts and function to compute the sentiment.\n",
    "\n",
    "Our process of Sentiment Analysis is as follows:\n",
    "\n",
    "1.Compute a sentiment for popular manga and new-published manga  \n",
    "2.Find out what kind of new-published manga is similar to popular mangas by plotting scattering plot.\n",
    "\n",
    "### 1. Compute a sentiment for popular manga and new-published manga\n",
    "We computed values of sentiment for popular mangas by using SentimentIntnesityAnalyzer"
   ]
  },
  {
   "cell_type": "code",
   "execution_count": 188,
   "metadata": {},
   "outputs": [],
   "source": [
    "# Import a library\n",
    "from nltk.sentiment.vader import SentimentIntensityAnalyzer\n",
    "vader_analyzer = SentimentIntensityAnalyzer()\n",
    "#set a empty dictionary\n",
    "sentiment_pop =dict()\n",
    "\n",
    "#for each pop manga, compute a value of sentiment and add it to dictionary\n",
    "for key,value in words_pop_manga.items():\n",
    "    sentiment_pop[key]=vader_analyzer.polarity_scores(\" \".join(list(value)))"
   ]
  },
  {
   "cell_type": "code",
   "execution_count": 189,
   "metadata": {},
   "outputs": [],
   "source": [
    "# as same as we did for popular mangas\n",
    "from nltk.sentiment.vader import SentimentIntensityAnalyzer\n",
    "vader_analyzer = SentimentIntensityAnalyzer()\n",
    "sentiment_new =dict()\n",
    "for key,value in words_new_manga.items():\n",
    "    sentiment_new[key]=vader_analyzer.polarity_scores(\" \".join(list(value)))"
   ]
  },
  {
   "cell_type": "code",
   "execution_count": 185,
   "metadata": {},
   "outputs": [
    {
     "name": "stdout",
     "output_type": "stream",
     "text": [
      "ものの歩 {'neg': 0.137, 'neu': 0.693, 'pos': 0.169, 'compound': 0.9907}\n",
      "思い、思われ、ふり、ふられ {'neg': 0.056, 'neu': 0.644, 'pos': 0.3, 'compound': 0.9989}\n",
      "古見さんは、コミュ症です。 {'neg': 0.108, 'neu': 0.73, 'pos': 0.162, 'compound': 0.9968}\n",
      "VECTOR_BALL {'neg': 0.198, 'neu': 0.656, 'pos': 0.146, 'compound': -0.9962}\n",
      "明日の３６００秒 {'neg': 0.105, 'neu': 0.76, 'pos': 0.135, 'compound': 0.8396}\n",
      "カツカレーの日 {'neg': 0.084, 'neu': 0.771, 'pos': 0.144, 'compound': 0.9062}\n",
      "炎炎ノ消防隊 {'neg': 0.161, 'neu': 0.707, 'pos': 0.132, 'compound': -0.9914}\n",
      "不滅のあなたへ {'neg': 0.088, 'neu': 0.76, 'pos': 0.151, 'compound': 0.9001}\n",
      "約束のネバーランド {'neg': 0.163, 'neu': 0.675, 'pos': 0.162, 'compound': -0.5967}\n",
      "空母いぶき {'neg': 0.148, 'neu': 0.744, 'pos': 0.108, 'compound': -0.9976}\n"
     ]
    }
   ],
   "source": [
    "# check some generated data\n",
    "for num,(name,value) in enumerate(sentiment_new.items()):\n",
    "    if num<10 :\n",
    "        print name,value"
   ]
  },
  {
   "cell_type": "markdown",
   "metadata": {},
   "source": [
    "The output of sentiment analysis contains 4 types of value:  \n",
    "\"neg\" : it means \"negative\" and how often negative words appered in a text  \n",
    "\"pos\" : it means \"positive\" and how often positive words appered in a text  \n",
    "\"neu\" : it means \"neutral\" and how often neutral words appered in a text  \n",
    "\"compound\" : it means the sintiment intensity of a given text. If it is around 1, the text is strongly positive."
   ]
  },
  {
   "cell_type": "markdown",
   "metadata": {},
   "source": [
    "### 2.plotting scattering plot."
   ]
  },
  {
   "cell_type": "markdown",
   "metadata": {},
   "source": [
    "We tried to find out what kind of new-published manga is similar to popular mangas by plotting scattering plot"
   ]
  },
  {
   "cell_type": "code",
   "execution_count": 195,
   "metadata": {},
   "outputs": [
    {
     "data": {
      "image/png": "[encoded data removed]",
      "text/plain": [
       "<matplotlib.figure.Figure at 0x108f6e1d0>"
      ]
     },
     "metadata": {},
     "output_type": "display_data"
    }
   ],
   "source": [
    "# plot scattering plot\n",
    "import matplotlib.pyplot as plt\n",
    "# set x,y for negative/positive value of popular mangas\n",
    "x = [i[\"neg\"] for i in sentiment_pop.values()]\n",
    "y = [i[\"pos\"] for i in sentiment_pop.values()]\n",
    "# set x_,y_ for negative/positive value of new-published mangas\n",
    "x_= [i[\"neg\"] for i in sentiment_new.values()]\n",
    "y_ = [i[\"pos\"] for i in sentiment_new.values()]\n",
    "plt.figure(figsize=(14,7))\n",
    "plt.scatter(x,y,color=\"b\",label=\"pop mangas\")\n",
    "plt.scatter(x_,y_,color=\"r\",label=\"new mangas\")\n",
    "plt.plot([0, 0.3], [0, 0.3], 'g--', lw=1,label=\"neutral line\")\n",
    "plt.xlabel(\"negative\"),plt.ylabel(\"positive\")\n",
    "plt.legend()\n",
    "plt.show()"
   ]
  },
  {
   "cell_type": "markdown",
   "metadata": {},
   "source": [
    "In the figure, pop mangas are plotted as blue points and new-published mangas are as red points. Plus a border between negative area and positive area are shown as a green dash line.  \n",
    "When look closer to a positive area and a negative area separated by the neutral line, it clearly turned out that a proportion of positive pop manga (124/ 149) is larger than that of positive new-published manga (23 /36).  "
   ]
  },
  {
   "cell_type": "code",
   "execution_count": 192,
   "metadata": {},
   "outputs": [
    {
     "name": "stdout",
     "output_type": "stream",
     "text": [
      "25\n",
      "13\n"
     ]
    }
   ],
   "source": [
    "print len([None for i in sentiment_pop.values() if i[\"neg\"]-i[\"pos\"] > 0])\n",
    "print len([None for i in sentiment_new.values() if i[\"neg\"]-i[\"pos\"] > 0])"
   ]
  },
  {
   "cell_type": "code",
   "execution_count": 191,
   "metadata": {},
   "outputs": [
    {
     "data": {
      "text/html": [
       "<div>\n",
       "<style>\n",
       "    .dataframe thead tr:only-child th {\n",
       "        text-align: right;\n",
       "    }\n",
       "\n",
       "    .dataframe thead th {\n",
       "        text-align: left;\n",
       "    }\n",
       "\n",
       "    .dataframe tbody tr th {\n",
       "        vertical-align: top;\n",
       "    }\n",
       "</style>\n",
       "<table border=\"1\" class=\"dataframe\">\n",
       "  <thead>\n",
       "    <tr style=\"text-align: right;\">\n",
       "      <th></th>\n",
       "      <th>positive</th>\n",
       "      <th>negative</th>\n",
       "      <th>total</th>\n",
       "    </tr>\n",
       "  </thead>\n",
       "  <tbody>\n",
       "    <tr>\n",
       "      <th>pop mangas</th>\n",
       "      <td>124</td>\n",
       "      <td>25</td>\n",
       "      <td>149</td>\n",
       "    </tr>\n",
       "    <tr>\n",
       "      <th>new-published mangas</th>\n",
       "      <td>23</td>\n",
       "      <td>13</td>\n",
       "      <td>36</td>\n",
       "    </tr>\n",
       "  </tbody>\n",
       "</table>\n",
       "</div>"
      ],
      "text/plain": [
       "                      positive  negative  total\n",
       "pop mangas                 124        25    149\n",
       "new-published mangas        23        13     36"
      ]
     },
     "execution_count": 191,
     "metadata": {},
     "output_type": "execute_result"
    }
   ],
   "source": [
    "arr = np.array([[149-25,25,149],[36-13,13,36]])\n",
    "df = pd.DataFrame(arr,index=[\"pop mangas\",\"new-published mangas\"],columns=[\"positive\",\"negative\",\"total\"])\n",
    "df"
   ]
  },
  {
   "cell_type": "markdown",
   "metadata": {},
   "source": [
    "Considered the findings, we can say it is likely that manga having positive value become popular manga. However, it is not possible to evaluate a similarity of new-published manga with pop mangas and find out which new-published manga would be a popular manga."
   ]
  },
  {
   "cell_type": "markdown",
   "metadata": {},
   "source": [
    "## Part4. Discussion"
   ]
  },
  {
   "cell_type": "markdown",
   "metadata": {},
   "source": [
    "** As a result of similarity analysis and sentiment analysis, we compared the positive/negative value and value of similarity for top 3 manga titles that we found in similarity analysis.**"
   ]
  },
  {
   "cell_type": "code",
   "execution_count": 196,
   "metadata": {},
   "outputs": [
    {
     "data": {
      "text/html": [
       "<div>\n",
       "<style>\n",
       "    .dataframe thead tr:only-child th {\n",
       "        text-align: right;\n",
       "    }\n",
       "\n",
       "    .dataframe thead th {\n",
       "        text-align: left;\n",
       "    }\n",
       "\n",
       "    .dataframe tbody tr th {\n",
       "        vertical-align: top;\n",
       "    }\n",
       "</style>\n",
       "<table border=\"1\" class=\"dataframe\">\n",
       "  <thead>\n",
       "    <tr style=\"text-align: right;\">\n",
       "      <th></th>\n",
       "      <th>positive</th>\n",
       "      <th>negative</th>\n",
       "      <th>similarity</th>\n",
       "    </tr>\n",
       "  </thead>\n",
       "  <tbody>\n",
       "    <tr>\n",
       "      <th>Promised Never Land</th>\n",
       "      <td>0.162</td>\n",
       "      <td>0.163</td>\n",
       "      <td>0.078530</td>\n",
       "    </tr>\n",
       "    <tr>\n",
       "      <th>Samon-kun wa Sumonner</th>\n",
       "      <td>0.166</td>\n",
       "      <td>0.205</td>\n",
       "      <td>0.073545</td>\n",
       "    </tr>\n",
       "    <tr>\n",
       "      <th>World End Harem</th>\n",
       "      <td>0.163</td>\n",
       "      <td>0.133</td>\n",
       "      <td>0.070989</td>\n",
       "    </tr>\n",
       "  </tbody>\n",
       "</table>\n",
       "</div>"
      ],
      "text/plain": [
       "                       positive  negative  similarity\n",
       "Promised Never Land       0.162     0.163    0.078530\n",
       "Samon-kun wa Sumonner     0.166     0.205    0.073545\n",
       "World End Harem           0.163     0.133    0.070989"
      ]
     },
     "execution_count": 196,
     "metadata": {},
     "output_type": "execute_result"
    }
   ],
   "source": [
    "arr = np.array([[sentiment_new[\"約束のネバーランド\"][\"pos\"],sentiment_new[\"約束のネバーランド\"][\"neg\"],sum(cos_values[\"約束のネバーランド\"])/149],\\\n",
    "              [sentiment_new[\"左門くんはサモナー\"][\"pos\"],sentiment_new[\"左門くんはサモナー\"][\"neg\"],sum(cos_values[\"左門くんはサモナー\"])/149],\\\n",
    "              [sentiment_new[\"終末のハーレム\"][\"pos\"],sentiment_new[\"終末のハーレム\"][\"neg\"],sum(cos_values[\"終末のハーレム\"])/149]])\n",
    "df = pd.DataFrame(arr,index=[\"Promised Never Land\",\"Samon-kun wa Sumonner\",\"World End Harem\"],columns=[\"positive\",\"negative\",\"similarity\"])\n",
    "df"
   ]
  },
  {
   "cell_type": "markdown",
   "metadata": {},
   "source": [
    "Here this table shows it is not always true that high similarity manga has positive value, for example a manga called “Samon-kun wa Sumonner” has negative value more than positive value. \n",
    "So is it failed to predict what kind of manga would be popular manga ? We don’t conclude it is failure and listed some reason why this result did came out.\n",
    "\n",
    "### Sentiment Analysis\n",
    "\n",
    ">Generally speaking, sentiment analysis aims to determine the attitude of a speaker, writer, or other subject with respect to some topic or the overall contextual polarity or emotional reaction to a document, interaction, or event.\n",
    "\n",
    "Basically, Sentiment Analysis is used for some comments or reviews written by a person and Wiki articles are written by anonymous people and the people try to write them from unbiased view, thus it is difficult to calculate values of sentiment for wiki articles.  \n",
    "**For further analysis it would be better way to use twitter database and extract tweets related to each manga title.**\n",
    "\n",
    "\n",
    "### Similarity Analysis\n",
    "\n",
    "It can be say that we **succeeded** to calculate value of similarity for new-published manga titles.  \n",
    "**However**  the maximum value of similarity is quite small ( the value is 0.08). If it is truly similar to popular mangas, value of similarity would be around 0.7~1.0. One of the reason why this happened is that wikipedia articles have a lot of unnecessary information, for example information about merchandise or media of a manga. Similarity analysis needs to extract only plot or explanation of its characters for more precise analysis."
   ]
  }
 ],
 "metadata": {
  "kernelspec": {
   "display_name": "Python 2",
   "language": "python",
   "name": "python2"
  },
  "language_info": {
   "codemirror_mode": {
    "name": "ipython",
    "version": 2
   },
   "file_extension": ".py",
   "mimetype": "text/x-python",
   "name": "python",
   "nbconvert_exporter": "python",
   "pygments_lexer": "ipython2",
   "version": "2.7.13"
  }
 },
 "nbformat": 4,
 "nbformat_minor": 2
}
